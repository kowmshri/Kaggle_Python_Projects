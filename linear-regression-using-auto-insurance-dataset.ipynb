{
 "cells": [
  {
   "cell_type": "code",
   "execution_count": 1,
   "id": "42b06f88",
   "metadata": {
    "_cell_guid": "b1076dfc-b9ad-4769-8c92-a6c4dae69d19",
    "_uuid": "8f2839f25d086af736a60e9eeb907d3b93b6e0e5",
    "execution": {
     "iopub.execute_input": "2024-01-05T01:53:42.902905Z",
     "iopub.status.busy": "2024-01-05T01:53:42.902496Z",
     "iopub.status.idle": "2024-01-05T01:53:43.283017Z",
     "shell.execute_reply": "2024-01-05T01:53:43.281515Z"
    },
    "papermill": {
     "duration": 0.392257,
     "end_time": "2024-01-05T01:53:43.285576",
     "exception": false,
     "start_time": "2024-01-05T01:53:42.893319",
     "status": "completed"
    },
    "tags": []
   },
   "outputs": [
    {
     "name": "stdout",
     "output_type": "stream",
     "text": [
      "/kaggle/input/auto-insurance-in-sweden/swedish_insurance.csv\n"
     ]
    }
   ],
   "source": [
    "# This Python 3 environment comes with many helpful analytics libraries installed\n",
    "# It is defined by the kaggle/python Docker image: https://github.com/kaggle/docker-python\n",
    "# For example, here's several helpful packages to load\n",
    "\n",
    "import numpy as np # linear algebra\n",
    "import pandas as pd # data processing, CSV file I/O (e.g. pd.read_csv)\n",
    "\n",
    "# Input data files are available in the read-only \"../input/\" directory\n",
    "# For example, running this (by clicking run or pressing Shift+Enter) will list all files under the input directory\n",
    "\n",
    "import os\n",
    "for dirname, _, filenames in os.walk('/kaggle/input'):\n",
    "    for filename in filenames:\n",
    "        print(os.path.join(dirname, filename))\n",
    "\n",
    "# You can write up to 20GB to the current directory (/kaggle/working/) that gets preserved as output when you create a version using \"Save & Run All\" \n",
    "# You can also write temporary files to /kaggle/temp/, but they won't be saved outside of the current session"
   ]
  },
  {
   "cell_type": "code",
   "execution_count": 2,
   "id": "53c87abf",
   "metadata": {
    "execution": {
     "iopub.execute_input": "2024-01-05T01:53:43.301585Z",
     "iopub.status.busy": "2024-01-05T01:53:43.301050Z",
     "iopub.status.idle": "2024-01-05T01:53:44.493900Z",
     "shell.execute_reply": "2024-01-05T01:53:44.492739Z"
    },
    "papermill": {
     "duration": 1.20349,
     "end_time": "2024-01-05T01:53:44.496440",
     "exception": false,
     "start_time": "2024-01-05T01:53:43.292950",
     "status": "completed"
    },
    "tags": []
   },
   "outputs": [],
   "source": [
    "#import necessary libraries\n",
    "import pandas as pd\n",
    "import numpy as np\n",
    "import matplotlib.pyplot as plt\n",
    "import seaborn as sns"
   ]
  },
  {
   "cell_type": "code",
   "execution_count": 3,
   "id": "1a1624d6",
   "metadata": {
    "execution": {
     "iopub.execute_input": "2024-01-05T01:53:44.512910Z",
     "iopub.status.busy": "2024-01-05T01:53:44.512003Z",
     "iopub.status.idle": "2024-01-05T01:53:44.557968Z",
     "shell.execute_reply": "2024-01-05T01:53:44.557083Z"
    },
    "papermill": {
     "duration": 0.056435,
     "end_time": "2024-01-05T01:53:44.559974",
     "exception": false,
     "start_time": "2024-01-05T01:53:44.503539",
     "status": "completed"
    },
    "tags": []
   },
   "outputs": [
    {
     "name": "stdout",
     "output_type": "stream",
     "text": [
      "<class 'pandas.core.frame.DataFrame'>\n",
      "RangeIndex: 63 entries, 0 to 62\n",
      "Data columns (total 2 columns):\n",
      " #   Column  Non-Null Count  Dtype  \n",
      "---  ------  --------------  -----  \n",
      " 0   X       63 non-null     int64  \n",
      " 1   Y       63 non-null     float64\n",
      "dtypes: float64(1), int64(1)\n",
      "memory usage: 1.1 KB\n"
     ]
    }
   ],
   "source": [
    "data = pd.read_csv('../input/auto-insurance-in-sweden/swedish_insurance.csv')\n",
    "data.info()"
   ]
  },
  {
   "cell_type": "code",
   "execution_count": 4,
   "id": "2817d47c",
   "metadata": {
    "execution": {
     "iopub.execute_input": "2024-01-05T01:53:44.576360Z",
     "iopub.status.busy": "2024-01-05T01:53:44.575122Z",
     "iopub.status.idle": "2024-01-05T01:53:44.591176Z",
     "shell.execute_reply": "2024-01-05T01:53:44.590091Z"
    },
    "papermill": {
     "duration": 0.026311,
     "end_time": "2024-01-05T01:53:44.593333",
     "exception": false,
     "start_time": "2024-01-05T01:53:44.567022",
     "status": "completed"
    },
    "tags": []
   },
   "outputs": [
    {
     "data": {
      "text/html": [
       "<div>\n",
       "<style scoped>\n",
       "    .dataframe tbody tr th:only-of-type {\n",
       "        vertical-align: middle;\n",
       "    }\n",
       "\n",
       "    .dataframe tbody tr th {\n",
       "        vertical-align: top;\n",
       "    }\n",
       "\n",
       "    .dataframe thead th {\n",
       "        text-align: right;\n",
       "    }\n",
       "</style>\n",
       "<table border=\"1\" class=\"dataframe\">\n",
       "  <thead>\n",
       "    <tr style=\"text-align: right;\">\n",
       "      <th></th>\n",
       "      <th>X</th>\n",
       "      <th>Y</th>\n",
       "    </tr>\n",
       "  </thead>\n",
       "  <tbody>\n",
       "    <tr>\n",
       "      <th>0</th>\n",
       "      <td>108</td>\n",
       "      <td>392.5</td>\n",
       "    </tr>\n",
       "    <tr>\n",
       "      <th>1</th>\n",
       "      <td>19</td>\n",
       "      <td>46.2</td>\n",
       "    </tr>\n",
       "    <tr>\n",
       "      <th>2</th>\n",
       "      <td>13</td>\n",
       "      <td>15.7</td>\n",
       "    </tr>\n",
       "    <tr>\n",
       "      <th>3</th>\n",
       "      <td>124</td>\n",
       "      <td>422.2</td>\n",
       "    </tr>\n",
       "    <tr>\n",
       "      <th>4</th>\n",
       "      <td>40</td>\n",
       "      <td>119.4</td>\n",
       "    </tr>\n",
       "  </tbody>\n",
       "</table>\n",
       "</div>"
      ],
      "text/plain": [
       "     X      Y\n",
       "0  108  392.5\n",
       "1   19   46.2\n",
       "2   13   15.7\n",
       "3  124  422.2\n",
       "4   40  119.4"
      ]
     },
     "execution_count": 4,
     "metadata": {},
     "output_type": "execute_result"
    }
   ],
   "source": [
    "data.head()"
   ]
  },
  {
   "cell_type": "code",
   "execution_count": 5,
   "id": "9afa0686",
   "metadata": {
    "execution": {
     "iopub.execute_input": "2024-01-05T01:53:44.609641Z",
     "iopub.status.busy": "2024-01-05T01:53:44.608923Z",
     "iopub.status.idle": "2024-01-05T01:53:44.615640Z",
     "shell.execute_reply": "2024-01-05T01:53:44.614441Z"
    },
    "papermill": {
     "duration": 0.017277,
     "end_time": "2024-01-05T01:53:44.617864",
     "exception": false,
     "start_time": "2024-01-05T01:53:44.600587",
     "status": "completed"
    },
    "tags": []
   },
   "outputs": [
    {
     "data": {
      "text/plain": [
       "(63, 2)"
      ]
     },
     "execution_count": 5,
     "metadata": {},
     "output_type": "execute_result"
    }
   ],
   "source": [
    "data.shape"
   ]
  },
  {
   "cell_type": "code",
   "execution_count": 6,
   "id": "99ae08b1",
   "metadata": {
    "execution": {
     "iopub.execute_input": "2024-01-05T01:53:44.635066Z",
     "iopub.status.busy": "2024-01-05T01:53:44.634290Z",
     "iopub.status.idle": "2024-01-05T01:53:44.729582Z",
     "shell.execute_reply": "2024-01-05T01:53:44.728551Z"
    },
    "papermill": {
     "duration": 0.106312,
     "end_time": "2024-01-05T01:53:44.731929",
     "exception": false,
     "start_time": "2024-01-05T01:53:44.625617",
     "status": "completed"
    },
    "tags": []
   },
   "outputs": [
    {
     "data": {
      "text/html": [
       "<div>\n",
       "<style scoped>\n",
       "    .dataframe tbody tr th:only-of-type {\n",
       "        vertical-align: middle;\n",
       "    }\n",
       "\n",
       "    .dataframe tbody tr th {\n",
       "        vertical-align: top;\n",
       "    }\n",
       "\n",
       "    .dataframe thead th {\n",
       "        text-align: right;\n",
       "    }\n",
       "</style>\n",
       "<table border=\"1\" class=\"dataframe\">\n",
       "  <thead>\n",
       "    <tr style=\"text-align: right;\">\n",
       "      <th></th>\n",
       "      <th>X</th>\n",
       "      <th>Y</th>\n",
       "    </tr>\n",
       "  </thead>\n",
       "  <tbody>\n",
       "    <tr>\n",
       "      <th>count</th>\n",
       "      <td>63.000000</td>\n",
       "      <td>63.000000</td>\n",
       "    </tr>\n",
       "    <tr>\n",
       "      <th>mean</th>\n",
       "      <td>22.904762</td>\n",
       "      <td>98.187302</td>\n",
       "    </tr>\n",
       "    <tr>\n",
       "      <th>std</th>\n",
       "      <td>23.351946</td>\n",
       "      <td>87.327553</td>\n",
       "    </tr>\n",
       "    <tr>\n",
       "      <th>min</th>\n",
       "      <td>0.000000</td>\n",
       "      <td>0.000000</td>\n",
       "    </tr>\n",
       "    <tr>\n",
       "      <th>25%</th>\n",
       "      <td>7.500000</td>\n",
       "      <td>38.850000</td>\n",
       "    </tr>\n",
       "    <tr>\n",
       "      <th>50%</th>\n",
       "      <td>14.000000</td>\n",
       "      <td>73.400000</td>\n",
       "    </tr>\n",
       "    <tr>\n",
       "      <th>75%</th>\n",
       "      <td>29.000000</td>\n",
       "      <td>140.000000</td>\n",
       "    </tr>\n",
       "    <tr>\n",
       "      <th>max</th>\n",
       "      <td>124.000000</td>\n",
       "      <td>422.200000</td>\n",
       "    </tr>\n",
       "  </tbody>\n",
       "</table>\n",
       "</div>"
      ],
      "text/plain": [
       "                X           Y\n",
       "count   63.000000   63.000000\n",
       "mean    22.904762   98.187302\n",
       "std     23.351946   87.327553\n",
       "min      0.000000    0.000000\n",
       "25%      7.500000   38.850000\n",
       "50%     14.000000   73.400000\n",
       "75%     29.000000  140.000000\n",
       "max    124.000000  422.200000"
      ]
     },
     "execution_count": 6,
     "metadata": {},
     "output_type": "execute_result"
    }
   ],
   "source": [
    "data.describe()"
   ]
  },
  {
   "cell_type": "code",
   "execution_count": 7,
   "id": "a434be32",
   "metadata": {
    "execution": {
     "iopub.execute_input": "2024-01-05T01:53:44.748814Z",
     "iopub.status.busy": "2024-01-05T01:53:44.748121Z",
     "iopub.status.idle": "2024-01-05T01:53:44.938023Z",
     "shell.execute_reply": "2024-01-05T01:53:44.936331Z"
    },
    "papermill": {
     "duration": 0.200744,
     "end_time": "2024-01-05T01:53:44.940291",
     "exception": false,
     "start_time": "2024-01-05T01:53:44.739547",
     "status": "completed"
    },
    "tags": []
   },
   "outputs": [
    {
     "data": {
      "image/png": "[encoded data removed]",
      "text/plain": [
       "<Figure size 640x480 with 1 Axes>"
      ]
     },
     "metadata": {},
     "output_type": "display_data"
    }
   ],
   "source": [
    "plt.boxplot(data.Y)\n",
    "plt.show()"
   ]
  },
  {
   "cell_type": "code",
   "execution_count": 8,
   "id": "55e99341",
   "metadata": {
    "execution": {
     "iopub.execute_input": "2024-01-05T01:53:44.958135Z",
     "iopub.status.busy": "2024-01-05T01:53:44.957333Z",
     "iopub.status.idle": "2024-01-05T01:53:45.129898Z",
     "shell.execute_reply": "2024-01-05T01:53:45.128708Z"
    },
    "papermill": {
     "duration": 0.183961,
     "end_time": "2024-01-05T01:53:45.132141",
     "exception": false,
     "start_time": "2024-01-05T01:53:44.948180",
     "status": "completed"
    },
    "tags": []
   },
   "outputs": [
    {
     "data": {
      "image/png": "[encoded data removed]",
      "text/plain": [
       "<Figure size 640x480 with 1 Axes>"
      ]
     },
     "metadata": {},
     "output_type": "display_data"
    }
   ],
   "source": [
    "# Try to exclude outliers\n",
    "Q1 = data.Y.quantile(0.25)\n",
    "Q3 = data.Y.quantile(0.75)\n",
    "IQR = Q3 - Q1\n",
    "data = data[(data.Y >= Q1 - 1.5 * IQR) & (data.Y <= Q3 + 1.5*IQR)]\n",
    "plt.boxplot(data.Y)\n",
    "plt.show()"
   ]
  },
  {
   "cell_type": "code",
   "execution_count": 9,
   "id": "33188cf2",
   "metadata": {
    "execution": {
     "iopub.execute_input": "2024-01-05T01:53:45.150148Z",
     "iopub.status.busy": "2024-01-05T01:53:45.149350Z",
     "iopub.status.idle": "2024-01-05T01:53:45.319406Z",
     "shell.execute_reply": "2024-01-05T01:53:45.318269Z"
    },
    "papermill": {
     "duration": 0.181926,
     "end_time": "2024-01-05T01:53:45.321901",
     "exception": false,
     "start_time": "2024-01-05T01:53:45.139975",
     "status": "completed"
    },
    "tags": []
   },
   "outputs": [
    {
     "data": {
      "image/png": "[encoded data removed]",
      "text/plain": [
       "<Figure size 640x480 with 1 Axes>"
      ]
     },
     "metadata": {},
     "output_type": "display_data"
    }
   ],
   "source": [
    "plt.boxplot(data.X)\n",
    "plt.show()"
   ]
  },
  {
   "cell_type": "code",
   "execution_count": 10,
   "id": "c204e54d",
   "metadata": {
    "execution": {
     "iopub.execute_input": "2024-01-05T01:53:45.340838Z",
     "iopub.status.busy": "2024-01-05T01:53:45.340444Z",
     "iopub.status.idle": "2024-01-05T01:53:46.518296Z",
     "shell.execute_reply": "2024-01-05T01:53:46.517181Z"
    },
    "papermill": {
     "duration": 1.190105,
     "end_time": "2024-01-05T01:53:46.520820",
     "exception": false,
     "start_time": "2024-01-05T01:53:45.330715",
     "status": "completed"
    },
    "tags": []
   },
   "outputs": [
    {
     "data": {
      "image/png": "[encoded data removed]",
      "text/plain": [
       "<Figure size 500x500 with 6 Axes>"
      ]
     },
     "metadata": {},
     "output_type": "display_data"
    }
   ],
   "source": [
    "sns.pairplot(data)\n",
    "plt.show()"
   ]
  },
  {
   "cell_type": "markdown",
   "id": "73768846",
   "metadata": {
    "papermill": {
     "duration": 0.008379,
     "end_time": "2024-01-05T01:53:46.538224",
     "exception": false,
     "start_time": "2024-01-05T01:53:46.529845",
     "status": "completed"
    },
    "tags": []
   },
   "source": [
    "Split Data to Training and Testing Sets"
   ]
  },
  {
   "cell_type": "code",
   "execution_count": 11,
   "id": "50e79cdd",
   "metadata": {
    "execution": {
     "iopub.execute_input": "2024-01-05T01:53:46.558305Z",
     "iopub.status.busy": "2024-01-05T01:53:46.557308Z",
     "iopub.status.idle": "2024-01-05T01:53:46.801879Z",
     "shell.execute_reply": "2024-01-05T01:53:46.801001Z"
    },
    "papermill": {
     "duration": 0.257164,
     "end_time": "2024-01-05T01:53:46.804162",
     "exception": false,
     "start_time": "2024-01-05T01:53:46.546998",
     "status": "completed"
    },
    "tags": []
   },
   "outputs": [],
   "source": [
    "from sklearn.model_selection import train_test_split\n",
    "\n",
    "train, test = train_test_split(data, test_size = 0.3)\n"
   ]
  },
  {
   "cell_type": "markdown",
   "id": "5bfaa58c",
   "metadata": {
    "papermill": {
     "duration": 0.008409,
     "end_time": "2024-01-05T01:53:46.821362",
     "exception": false,
     "start_time": "2024-01-05T01:53:46.812953",
     "status": "completed"
    },
    "tags": []
   },
   "source": [
    "Dividing X and Y for model building"
   ]
  },
  {
   "cell_type": "code",
   "execution_count": 12,
   "id": "5b18e865",
   "metadata": {
    "execution": {
     "iopub.execute_input": "2024-01-05T01:53:46.840479Z",
     "iopub.status.busy": "2024-01-05T01:53:46.840031Z",
     "iopub.status.idle": "2024-01-05T01:53:46.852288Z",
     "shell.execute_reply": "2024-01-05T01:53:46.851541Z"
    },
    "papermill": {
     "duration": 0.02411,
     "end_time": "2024-01-05T01:53:46.854223",
     "exception": false,
     "start_time": "2024-01-05T01:53:46.830113",
     "status": "completed"
    },
    "tags": []
   },
   "outputs": [
    {
     "data": {
      "text/plain": [
       "(49     39.9\n",
       " 61    244.6\n",
       " 6      56.9\n",
       " 58     87.4\n",
       " 46     21.3\n",
       " 28     27.9\n",
       " 9      65.3\n",
       " 12     23.5\n",
       " 27     98.1\n",
       " 62    187.5\n",
       " 17     50.9\n",
       " 34    161.5\n",
       " 31     69.2\n",
       " 11    248.1\n",
       " 39     59.6\n",
       " 35     57.2\n",
       " 40     89.9\n",
       " 4     119.4\n",
       " 55    133.3\n",
       " 16    134.9\n",
       " 54     55.6\n",
       " 25     77.5\n",
       " 33     40.3\n",
       " 59    209.8\n",
       " 2      15.7\n",
       " 23     13.2\n",
       " 5     170.9\n",
       " 29     38.1\n",
       " 1      46.2\n",
       " 32     14.6\n",
       " 36    217.6\n",
       " 41    202.4\n",
       " 14     48.8\n",
       " 24    103.9\n",
       " 20     14.8\n",
       " 47     92.6\n",
       " 37     58.1\n",
       " 38     12.6\n",
       " 7      77.5\n",
       " 60     95.5\n",
       " 26     11.8\n",
       " 56    194.5\n",
       " Name: Y, dtype: float64,\n",
       "      X\n",
       " 49   3\n",
       " 61  53\n",
       " 6   23\n",
       " 58   9\n",
       " 46  11\n",
       " 28   7\n",
       " 9   10\n",
       " 12  11\n",
       " 27  20\n",
       " 62  26\n",
       " 17   6\n",
       " 34  22\n",
       " 31  25\n",
       " 11  48\n",
       " 39  16\n",
       " 35  11\n",
       " 40  13\n",
       " 4   40\n",
       " 55  29\n",
       " 16  24\n",
       " 54   8\n",
       " 25   7\n",
       " 33   5\n",
       " 59  31\n",
       " 2   13\n",
       " 23   3\n",
       " 5   57\n",
       " 29   4\n",
       " 1   19\n",
       " 32   6\n",
       " 36  61\n",
       " 41  60\n",
       " 14   7\n",
       " 24  29\n",
       " 20   6\n",
       " 47  27\n",
       " 37  12\n",
       " 38   4\n",
       " 7   14\n",
       " 60  14\n",
       " 26   4\n",
       " 56  30)"
      ]
     },
     "execution_count": 12,
     "metadata": {},
     "output_type": "execute_result"
    }
   ],
   "source": [
    "y_train = train.pop('Y')\n",
    "x_train = train\n",
    "\n",
    "y_train, x_train"
   ]
  },
  {
   "cell_type": "code",
   "execution_count": 13,
   "id": "870e2c9e",
   "metadata": {
    "execution": {
     "iopub.execute_input": "2024-01-05T01:53:46.874686Z",
     "iopub.status.busy": "2024-01-05T01:53:46.873463Z",
     "iopub.status.idle": "2024-01-05T01:53:47.039430Z",
     "shell.execute_reply": "2024-01-05T01:53:47.038408Z"
    },
    "papermill": {
     "duration": 0.178839,
     "end_time": "2024-01-05T01:53:47.041964",
     "exception": false,
     "start_time": "2024-01-05T01:53:46.863125",
     "status": "completed"
    },
    "tags": []
   },
   "outputs": [],
   "source": [
    "from sklearn.feature_selection import RFE\n",
    "from sklearn.linear_model import LinearRegression"
   ]
  },
  {
   "cell_type": "code",
   "execution_count": 14,
   "id": "f4b947b3",
   "metadata": {
    "execution": {
     "iopub.execute_input": "2024-01-05T01:53:47.061730Z",
     "iopub.status.busy": "2024-01-05T01:53:47.061305Z",
     "iopub.status.idle": "2024-01-05T01:53:47.085000Z",
     "shell.execute_reply": "2024-01-05T01:53:47.083929Z"
    },
    "papermill": {
     "duration": 0.03631,
     "end_time": "2024-01-05T01:53:47.087340",
     "exception": false,
     "start_time": "2024-01-05T01:53:47.051030",
     "status": "completed"
    },
    "tags": []
   },
   "outputs": [
    {
     "data": {
      "text/html": [
       "<style>#sk-container-id-1 {color: black;background-color: white;}#sk-container-id-1 pre{padding: 0;}#sk-container-id-1 div.sk-toggleable {background-color: white;}#sk-container-id-1 label.sk-toggleable__label {cursor: pointer;display: block;width: 100%;margin-bottom: 0;padding: 0.3em;box-sizing: border-box;text-align: center;}#sk-container-id-1 label.sk-toggleable__label-arrow:before {content: \"▸\";float: left;margin-right: 0.25em;color: #696969;}#sk-container-id-1 label.sk-toggleable__label-arrow:hover:before {color: black;}#sk-container-id-1 div.sk-estimator:hover label.sk-toggleable__label-arrow:before {color: black;}#sk-container-id-1 div.sk-toggleable__content {max-height: 0;max-width: 0;overflow: hidden;text-align: left;background-color: #f0f8ff;}#sk-container-id-1 div.sk-toggleable__content pre {margin: 0.2em;color: black;border-radius: 0.25em;background-color: #f0f8ff;}#sk-container-id-1 input.sk-toggleable__control:checked~div.sk-toggleable__content {max-height: 200px;max-width: 100%;overflow: auto;}#sk-container-id-1 input.sk-toggleable__control:checked~label.sk-toggleable__label-arrow:before {content: \"▾\";}#sk-container-id-1 div.sk-estimator input.sk-toggleable__control:checked~label.sk-toggleable__label {background-color: #d4ebff;}#sk-container-id-1 div.sk-label input.sk-toggleable__control:checked~label.sk-toggleable__label {background-color: #d4ebff;}#sk-container-id-1 input.sk-hidden--visually {border: 0;clip: rect(1px 1px 1px 1px);clip: rect(1px, 1px, 1px, 1px);height: 1px;margin: -1px;overflow: hidden;padding: 0;position: absolute;width: 1px;}#sk-container-id-1 div.sk-estimator {font-family: monospace;background-color: #f0f8ff;border: 1px dotted black;border-radius: 0.25em;box-sizing: border-box;margin-bottom: 0.5em;}#sk-container-id-1 div.sk-estimator:hover {background-color: #d4ebff;}#sk-container-id-1 div.sk-parallel-item::after {content: \"\";width: 100%;border-bottom: 1px solid gray;flex-grow: 1;}#sk-container-id-1 div.sk-label:hover label.sk-toggleable__label {background-color: #d4ebff;}#sk-container-id-1 div.sk-serial::before {content: \"\";position: absolute;border-left: 1px solid gray;box-sizing: border-box;top: 0;bottom: 0;left: 50%;z-index: 0;}#sk-container-id-1 div.sk-serial {display: flex;flex-direction: column;align-items: center;background-color: white;padding-right: 0.2em;padding-left: 0.2em;position: relative;}#sk-container-id-1 div.sk-item {position: relative;z-index: 1;}#sk-container-id-1 div.sk-parallel {display: flex;align-items: stretch;justify-content: center;background-color: white;position: relative;}#sk-container-id-1 div.sk-item::before, #sk-container-id-1 div.sk-parallel-item::before {content: \"\";position: absolute;border-left: 1px solid gray;box-sizing: border-box;top: 0;bottom: 0;left: 50%;z-index: -1;}#sk-container-id-1 div.sk-parallel-item {display: flex;flex-direction: column;z-index: 1;position: relative;background-color: white;}#sk-container-id-1 div.sk-parallel-item:first-child::after {align-self: flex-end;width: 50%;}#sk-container-id-1 div.sk-parallel-item:last-child::after {align-self: flex-start;width: 50%;}#sk-container-id-1 div.sk-parallel-item:only-child::after {width: 0;}#sk-container-id-1 div.sk-dashed-wrapped {border: 1px dashed gray;margin: 0 0.4em 0.5em 0.4em;box-sizing: border-box;padding-bottom: 0.4em;background-color: white;}#sk-container-id-1 div.sk-label label {font-family: monospace;font-weight: bold;display: inline-block;line-height: 1.2em;}#sk-container-id-1 div.sk-label-container {text-align: center;}#sk-container-id-1 div.sk-container {/* jupyter's `normalize.less` sets `[hidden] { display: none; }` but bootstrap.min.css set `[hidden] { display: none !important; }` so we also need the `!important` here to be able to override the default hidden behavior on the sphinx rendered scikit-learn.org. See: https://github.com/scikit-learn/scikit-learn/issues/21755 */display: inline-block !important;position: relative;}#sk-container-id-1 div.sk-text-repr-fallback {display: none;}</style><div id=\"sk-container-id-1\" class=\"sk-top-container\"><div class=\"sk-text-repr-fallback\"><pre>LinearRegression()</pre><b>In a Jupyter environment, please rerun this cell to show the HTML representation or trust the notebook. <br />On GitHub, the HTML representation is unable to render, please try loading this page with nbviewer.org.</b></div><div class=\"sk-container\" hidden><div class=\"sk-item\"><div class=\"sk-estimator sk-toggleable\"><input class=\"sk-toggleable__control sk-hidden--visually\" id=\"sk-estimator-id-1\" type=\"checkbox\" checked><label for=\"sk-estimator-id-1\" class=\"sk-toggleable__label sk-toggleable__label-arrow\">LinearRegression</label><div class=\"sk-toggleable__content\"><pre>LinearRegression()</pre></div></div></div></div></div>"
      ],
      "text/plain": [
       "LinearRegression()"
      ]
     },
     "execution_count": 14,
     "metadata": {},
     "output_type": "execute_result"
    }
   ],
   "source": [
    "lm = LinearRegression()\n",
    "lm.fit(x_train, y_train)"
   ]
  },
  {
   "cell_type": "code",
   "execution_count": 15,
   "id": "b5ebdbc5",
   "metadata": {
    "execution": {
     "iopub.execute_input": "2024-01-05T01:53:47.108590Z",
     "iopub.status.busy": "2024-01-05T01:53:47.107872Z",
     "iopub.status.idle": "2024-01-05T01:53:48.685302Z",
     "shell.execute_reply": "2024-01-05T01:53:48.684207Z"
    },
    "papermill": {
     "duration": 1.591049,
     "end_time": "2024-01-05T01:53:48.687750",
     "exception": false,
     "start_time": "2024-01-05T01:53:47.096701",
     "status": "completed"
    },
    "tags": []
   },
   "outputs": [
    {
     "name": "stdout",
     "output_type": "stream",
     "text": [
      "                            OLS Regression Results                            \n",
      "==============================================================================\n",
      "Dep. Variable:                      Y   R-squared:                       0.742\n",
      "Model:                            OLS   Adj. R-squared:                  0.736\n",
      "Method:                 Least Squares   F-statistic:                     115.2\n",
      "Date:                Fri, 05 Jan 2024   Prob (F-statistic):           2.42e-13\n",
      "Time:                        01:53:48   Log-Likelihood:                -208.60\n",
      "No. Observations:                  42   AIC:                             421.2\n",
      "Df Residuals:                      40   BIC:                             424.7\n",
      "Df Model:                           1                                         \n",
      "Covariance Type:            nonrobust                                         \n",
      "==============================================================================\n",
      "                 coef    std err          t      P>|t|      [0.025      0.975]\n",
      "------------------------------------------------------------------------------\n",
      "const         18.2791      8.664      2.110      0.041       0.768      35.791\n",
      "X              3.6482      0.340     10.733      0.000       2.961       4.335\n",
      "==============================================================================\n",
      "Omnibus:                        2.525   Durbin-Watson:                   2.284\n",
      "Prob(Omnibus):                  0.283   Jarque-Bera (JB):                2.374\n",
      "Skew:                           0.535   Prob(JB):                        0.305\n",
      "Kurtosis:                       2.538   Cond. No.                         40.2\n",
      "==============================================================================\n",
      "\n",
      "Notes:\n",
      "[1] Standard Errors assume that the covariance matrix of the errors is correctly specified.\n"
     ]
    }
   ],
   "source": [
    "import statsmodels.api as sm\n",
    "x_train = sm.add_constant(x_train)\n",
    "model = sm.OLS(y_train, x_train).fit()\n",
    "print(model.summary())\n"
   ]
  },
  {
   "cell_type": "code",
   "execution_count": 16,
   "id": "0041fc98",
   "metadata": {
    "execution": {
     "iopub.execute_input": "2024-01-05T01:53:48.709405Z",
     "iopub.status.busy": "2024-01-05T01:53:48.708252Z",
     "iopub.status.idle": "2024-01-05T01:53:48.722163Z",
     "shell.execute_reply": "2024-01-05T01:53:48.721131Z"
    },
    "papermill": {
     "duration": 0.027491,
     "end_time": "2024-01-05T01:53:48.724559",
     "exception": false,
     "start_time": "2024-01-05T01:53:48.697068",
     "status": "completed"
    },
    "tags": []
   },
   "outputs": [],
   "source": [
    "from statsmodels.stats.outliers_influence import variance_inflation_factor"
   ]
  },
  {
   "cell_type": "code",
   "execution_count": 17,
   "id": "f5e6b9d6",
   "metadata": {
    "execution": {
     "iopub.execute_input": "2024-01-05T01:53:48.745765Z",
     "iopub.status.busy": "2024-01-05T01:53:48.744308Z",
     "iopub.status.idle": "2024-01-05T01:53:48.760493Z",
     "shell.execute_reply": "2024-01-05T01:53:48.759251Z"
    },
    "papermill": {
     "duration": 0.028901,
     "end_time": "2024-01-05T01:53:48.762787",
     "exception": false,
     "start_time": "2024-01-05T01:53:48.733886",
     "status": "completed"
    },
    "tags": []
   },
   "outputs": [
    {
     "data": {
      "text/html": [
       "<div>\n",
       "<style scoped>\n",
       "    .dataframe tbody tr th:only-of-type {\n",
       "        vertical-align: middle;\n",
       "    }\n",
       "\n",
       "    .dataframe tbody tr th {\n",
       "        vertical-align: top;\n",
       "    }\n",
       "\n",
       "    .dataframe thead th {\n",
       "        text-align: right;\n",
       "    }\n",
       "</style>\n",
       "<table border=\"1\" class=\"dataframe\">\n",
       "  <thead>\n",
       "    <tr style=\"text-align: right;\">\n",
       "      <th></th>\n",
       "      <th>Features</th>\n",
       "      <th>VIF</th>\n",
       "    </tr>\n",
       "  </thead>\n",
       "  <tbody>\n",
       "    <tr>\n",
       "      <th>0</th>\n",
       "      <td>const</td>\n",
       "      <td>2.49</td>\n",
       "    </tr>\n",
       "    <tr>\n",
       "      <th>1</th>\n",
       "      <td>X</td>\n",
       "      <td>1.00</td>\n",
       "    </tr>\n",
       "  </tbody>\n",
       "</table>\n",
       "</div>"
      ],
      "text/plain": [
       "  Features   VIF\n",
       "0    const  2.49\n",
       "1        X  1.00"
      ]
     },
     "execution_count": 17,
     "metadata": {},
     "output_type": "execute_result"
    }
   ],
   "source": [
    "vif = pd.DataFrame()\n",
    "X = x_train\n",
    "vif['Features'] = X.columns\n",
    "vif['VIF'] = [variance_inflation_factor(X.values, i) for i in range(X.shape[1])]\n",
    "vif['VIF'] = round(vif['VIF'], 2)\n",
    "vif = vif.sort_values(by = \"VIF\", ascending = False)\n",
    "vif"
   ]
  },
  {
   "cell_type": "markdown",
   "id": "a9d37655",
   "metadata": {
    "papermill": {
     "duration": 0.00902,
     "end_time": "2024-01-05T01:53:48.781319",
     "exception": false,
     "start_time": "2024-01-05T01:53:48.772299",
     "status": "completed"
    },
    "tags": []
   },
   "source": [
    "Residual Analysis\n",
    "One of the important assumption is that the error terms are normally distributed"
   ]
  },
  {
   "cell_type": "code",
   "execution_count": 18,
   "id": "03403b7c",
   "metadata": {
    "execution": {
     "iopub.execute_input": "2024-01-05T01:53:48.802356Z",
     "iopub.status.busy": "2024-01-05T01:53:48.801332Z",
     "iopub.status.idle": "2024-01-05T01:53:48.806653Z",
     "shell.execute_reply": "2024-01-05T01:53:48.805805Z"
    },
    "papermill": {
     "duration": 0.017984,
     "end_time": "2024-01-05T01:53:48.808621",
     "exception": false,
     "start_time": "2024-01-05T01:53:48.790637",
     "status": "completed"
    },
    "tags": []
   },
   "outputs": [],
   "source": [
    "y_train_Y = model.predict(x_train)"
   ]
  },
  {
   "cell_type": "code",
   "execution_count": 19,
   "id": "8d970d0b",
   "metadata": {
    "execution": {
     "iopub.execute_input": "2024-01-05T01:53:48.830030Z",
     "iopub.status.busy": "2024-01-05T01:53:48.829298Z",
     "iopub.status.idle": "2024-01-05T01:53:48.837616Z",
     "shell.execute_reply": "2024-01-05T01:53:48.836576Z"
    },
    "papermill": {
     "duration": 0.021323,
     "end_time": "2024-01-05T01:53:48.839782",
     "exception": false,
     "start_time": "2024-01-05T01:53:48.818459",
     "status": "completed"
    },
    "tags": []
   },
   "outputs": [
    {
     "data": {
      "text/plain": [
       "49   -10.676378\n",
       "61   -32.968410\n",
       "6     45.286809\n",
       "58   -36.287422\n",
       "46    37.108897\n",
       "28    15.916260\n",
       "9    -10.539262\n",
       "12    34.908897\n",
       "27    -6.857669\n",
       "62   -74.368713\n",
       "17   -10.731900\n",
       "34   -62.961350\n",
       "31    40.283128\n",
       "11   -54.709207\n",
       "39    17.049694\n",
       "35     1.208897\n",
       "40   -24.194784\n",
       "4     44.805518\n",
       "55    -9.224235\n",
       "16   -29.065031\n",
       "54    -8.135581\n",
       "25   -33.683740\n",
       "33    -3.780059\n",
       "59   -78.427916\n",
       "2     50.005216\n",
       "23    16.023622\n",
       "5     55.324227\n",
       "29    -5.228218\n",
       "1     41.394172\n",
       "32    25.568100\n",
       "36    23.216864\n",
       "41    34.768705\n",
       "14    -4.983740\n",
       "24    20.175765\n",
       "20    25.368100\n",
       "47    24.179447\n",
       "37     3.957057\n",
       "38    20.271782\n",
       "7     -8.146625\n",
       "60   -26.146625\n",
       "26    21.071782\n",
       "56   -66.776075\n",
       "dtype: float64"
      ]
     },
     "execution_count": 19,
     "metadata": {},
     "output_type": "execute_result"
    }
   ],
   "source": [
    "res = (y_train_Y - y_train)\n",
    "res"
   ]
  },
  {
   "cell_type": "code",
   "execution_count": 20,
   "id": "2b624eef",
   "metadata": {
    "execution": {
     "iopub.execute_input": "2024-01-05T01:53:48.862484Z",
     "iopub.status.busy": "2024-01-05T01:53:48.862062Z",
     "iopub.status.idle": "2024-01-05T01:53:48.867558Z",
     "shell.execute_reply": "2024-01-05T01:53:48.866554Z"
    },
    "papermill": {
     "duration": 0.020035,
     "end_time": "2024-01-05T01:53:48.869625",
     "exception": false,
     "start_time": "2024-01-05T01:53:48.849590",
     "status": "completed"
    },
    "tags": []
   },
   "outputs": [],
   "source": [
    "import matplotlib.pyplot as plt\n",
    "import seaborn as sns\n",
    "%matplotlib inline"
   ]
  },
  {
   "cell_type": "code",
   "execution_count": 21,
   "id": "53fab5fc",
   "metadata": {
    "execution": {
     "iopub.execute_input": "2024-01-05T01:53:48.890898Z",
     "iopub.status.busy": "2024-01-05T01:53:48.890506Z",
     "iopub.status.idle": "2024-01-05T01:53:49.238765Z",
     "shell.execute_reply": "2024-01-05T01:53:49.237454Z"
    },
    "papermill": {
     "duration": 0.36197,
     "end_time": "2024-01-05T01:53:49.241167",
     "exception": false,
     "start_time": "2024-01-05T01:53:48.879197",
     "status": "completed"
    },
    "tags": []
   },
   "outputs": [
    {
     "name": "stderr",
     "output_type": "stream",
     "text": [
      "/tmp/ipykernel_19/1125523441.py:3: UserWarning: \n",
      "\n",
      "`distplot` is a deprecated function and will be removed in seaborn v0.14.0.\n",
      "\n",
      "Please adapt your code to use either `displot` (a figure-level function with\n",
      "similar flexibility) or `histplot` (an axes-level function for histograms).\n",
      "\n",
      "For a guide to updating your code to use the new functions, please see\n",
      "https://gist.github.com/mwaskom/de44147ed2974457ad6372750bbe5751\n",
      "\n",
      "  sns.distplot((y_train - y_train_Y), bins = 25)\n"
     ]
    },
    {
     "data": {
      "text/plain": [
       "Text(0.5, 0, 'Errors')"
      ]
     },
     "execution_count": 21,
     "metadata": {},
     "output_type": "execute_result"
    },
    {
     "data": {
      "image/png": "[encoded data removed]",
      "text/plain": [
       "<Figure size 640x480 with 1 Axes>"
      ]
     },
     "metadata": {},
     "output_type": "display_data"
    }
   ],
   "source": [
    "# Plot the histogram of the error terms\n",
    "fig = plt.figure()\n",
    "sns.distplot((y_train - y_train_Y), bins = 25)\n",
    "fig.suptitle('Error Terms', fontsize = 20)                  # Plot heading \n",
    "plt.xlabel('Errors', fontsize = 18)                         # X-label"
   ]
  },
  {
   "cell_type": "code",
   "execution_count": 22,
   "id": "a2de54a2",
   "metadata": {
    "execution": {
     "iopub.execute_input": "2024-01-05T01:53:49.264290Z",
     "iopub.status.busy": "2024-01-05T01:53:49.263887Z",
     "iopub.status.idle": "2024-01-05T01:53:49.492497Z",
     "shell.execute_reply": "2024-01-05T01:53:49.491328Z"
    },
    "papermill": {
     "duration": 0.242878,
     "end_time": "2024-01-05T01:53:49.494883",
     "exception": false,
     "start_time": "2024-01-05T01:53:49.252005",
     "status": "completed"
    },
    "tags": []
   },
   "outputs": [
    {
     "data": {
      "image/png": "[encoded data removed]",
      "text/plain": [
       "<Figure size 640x480 with 1 Axes>"
      ]
     },
     "metadata": {},
     "output_type": "display_data"
    }
   ],
   "source": [
    "plt.scatter(y_train,res)\n",
    "plt.show()"
   ]
  },
  {
   "cell_type": "code",
   "execution_count": 23,
   "id": "42b9baa8",
   "metadata": {
    "execution": {
     "iopub.execute_input": "2024-01-05T01:53:49.518028Z",
     "iopub.status.busy": "2024-01-05T01:53:49.517590Z",
     "iopub.status.idle": "2024-01-05T01:53:49.530266Z",
     "shell.execute_reply": "2024-01-05T01:53:49.528921Z"
    },
    "papermill": {
     "duration": 0.02702,
     "end_time": "2024-01-05T01:53:49.532593",
     "exception": false,
     "start_time": "2024-01-05T01:53:49.505573",
     "status": "completed"
    },
    "tags": []
   },
   "outputs": [
    {
     "data": {
      "text/html": [
       "<div>\n",
       "<style scoped>\n",
       "    .dataframe tbody tr th:only-of-type {\n",
       "        vertical-align: middle;\n",
       "    }\n",
       "\n",
       "    .dataframe tbody tr th {\n",
       "        vertical-align: top;\n",
       "    }\n",
       "\n",
       "    .dataframe thead th {\n",
       "        text-align: right;\n",
       "    }\n",
       "</style>\n",
       "<table border=\"1\" class=\"dataframe\">\n",
       "  <thead>\n",
       "    <tr style=\"text-align: right;\">\n",
       "      <th></th>\n",
       "      <th>X</th>\n",
       "      <th>Y</th>\n",
       "    </tr>\n",
       "  </thead>\n",
       "  <tbody>\n",
       "    <tr>\n",
       "      <th>15</th>\n",
       "      <td>2</td>\n",
       "      <td>6.6</td>\n",
       "    </tr>\n",
       "    <tr>\n",
       "      <th>52</th>\n",
       "      <td>13</td>\n",
       "      <td>31.9</td>\n",
       "    </tr>\n",
       "    <tr>\n",
       "      <th>22</th>\n",
       "      <td>9</td>\n",
       "      <td>52.1</td>\n",
       "    </tr>\n",
       "    <tr>\n",
       "      <th>53</th>\n",
       "      <td>15</td>\n",
       "      <td>32.1</td>\n",
       "    </tr>\n",
       "    <tr>\n",
       "      <th>44</th>\n",
       "      <td>55</td>\n",
       "      <td>162.8</td>\n",
       "    </tr>\n",
       "    <tr>\n",
       "      <th>51</th>\n",
       "      <td>13</td>\n",
       "      <td>93.0</td>\n",
       "    </tr>\n",
       "    <tr>\n",
       "      <th>13</th>\n",
       "      <td>23</td>\n",
       "      <td>39.6</td>\n",
       "    </tr>\n",
       "    <tr>\n",
       "      <th>30</th>\n",
       "      <td>0</td>\n",
       "      <td>0.0</td>\n",
       "    </tr>\n",
       "    <tr>\n",
       "      <th>43</th>\n",
       "      <td>37</td>\n",
       "      <td>152.8</td>\n",
       "    </tr>\n",
       "    <tr>\n",
       "      <th>50</th>\n",
       "      <td>17</td>\n",
       "      <td>142.1</td>\n",
       "    </tr>\n",
       "    <tr>\n",
       "      <th>45</th>\n",
       "      <td>41</td>\n",
       "      <td>73.4</td>\n",
       "    </tr>\n",
       "    <tr>\n",
       "      <th>48</th>\n",
       "      <td>8</td>\n",
       "      <td>76.1</td>\n",
       "    </tr>\n",
       "    <tr>\n",
       "      <th>8</th>\n",
       "      <td>45</td>\n",
       "      <td>214.0</td>\n",
       "    </tr>\n",
       "    <tr>\n",
       "      <th>42</th>\n",
       "      <td>41</td>\n",
       "      <td>181.3</td>\n",
       "    </tr>\n",
       "    <tr>\n",
       "      <th>10</th>\n",
       "      <td>5</td>\n",
       "      <td>20.9</td>\n",
       "    </tr>\n",
       "    <tr>\n",
       "      <th>21</th>\n",
       "      <td>9</td>\n",
       "      <td>48.7</td>\n",
       "    </tr>\n",
       "    <tr>\n",
       "      <th>57</th>\n",
       "      <td>24</td>\n",
       "      <td>137.9</td>\n",
       "    </tr>\n",
       "    <tr>\n",
       "      <th>18</th>\n",
       "      <td>3</td>\n",
       "      <td>4.4</td>\n",
       "    </tr>\n",
       "    <tr>\n",
       "      <th>19</th>\n",
       "      <td>23</td>\n",
       "      <td>113.0</td>\n",
       "    </tr>\n",
       "  </tbody>\n",
       "</table>\n",
       "</div>"
      ],
      "text/plain": [
       "     X      Y\n",
       "15   2    6.6\n",
       "52  13   31.9\n",
       "22   9   52.1\n",
       "53  15   32.1\n",
       "44  55  162.8\n",
       "51  13   93.0\n",
       "13  23   39.6\n",
       "30   0    0.0\n",
       "43  37  152.8\n",
       "50  17  142.1\n",
       "45  41   73.4\n",
       "48   8   76.1\n",
       "8   45  214.0\n",
       "42  41  181.3\n",
       "10   5   20.9\n",
       "21   9   48.7\n",
       "57  24  137.9\n",
       "18   3    4.4\n",
       "19  23  113.0"
      ]
     },
     "execution_count": 23,
     "metadata": {},
     "output_type": "execute_result"
    }
   ],
   "source": [
    "test"
   ]
  },
  {
   "cell_type": "code",
   "execution_count": 24,
   "id": "c7652d08",
   "metadata": {
    "execution": {
     "iopub.execute_input": "2024-01-05T01:53:49.556623Z",
     "iopub.status.busy": "2024-01-05T01:53:49.556229Z",
     "iopub.status.idle": "2024-01-05T01:53:49.560709Z",
     "shell.execute_reply": "2024-01-05T01:53:49.559895Z"
    },
    "papermill": {
     "duration": 0.019263,
     "end_time": "2024-01-05T01:53:49.562800",
     "exception": false,
     "start_time": "2024-01-05T01:53:49.543537",
     "status": "completed"
    },
    "tags": []
   },
   "outputs": [],
   "source": [
    "y_test = test.pop('Y')\n",
    "x_test = test"
   ]
  },
  {
   "cell_type": "code",
   "execution_count": 25,
   "id": "5e3e47c6",
   "metadata": {
    "execution": {
     "iopub.execute_input": "2024-01-05T01:53:49.587010Z",
     "iopub.status.busy": "2024-01-05T01:53:49.586304Z",
     "iopub.status.idle": "2024-01-05T01:53:49.592197Z",
     "shell.execute_reply": "2024-01-05T01:53:49.591455Z"
    },
    "papermill": {
     "duration": 0.020622,
     "end_time": "2024-01-05T01:53:49.594262",
     "exception": false,
     "start_time": "2024-01-05T01:53:49.573640",
     "status": "completed"
    },
    "tags": []
   },
   "outputs": [],
   "source": [
    "x_test = sm.add_constant(x_test)"
   ]
  },
  {
   "cell_type": "code",
   "execution_count": 26,
   "id": "f0b3a736",
   "metadata": {
    "execution": {
     "iopub.execute_input": "2024-01-05T01:53:49.678444Z",
     "iopub.status.busy": "2024-01-05T01:53:49.677751Z",
     "iopub.status.idle": "2024-01-05T01:53:49.682217Z",
     "shell.execute_reply": "2024-01-05T01:53:49.681458Z"
    },
    "papermill": {
     "duration": 0.079257,
     "end_time": "2024-01-05T01:53:49.684587",
     "exception": false,
     "start_time": "2024-01-05T01:53:49.605330",
     "status": "completed"
    },
    "tags": []
   },
   "outputs": [],
   "source": [
    "y_pred = model.predict(x_test)"
   ]
  },
  {
   "cell_type": "code",
   "execution_count": 27,
   "id": "4f969c2d",
   "metadata": {
    "execution": {
     "iopub.execute_input": "2024-01-05T01:53:49.708430Z",
     "iopub.status.busy": "2024-01-05T01:53:49.707993Z",
     "iopub.status.idle": "2024-01-05T01:53:49.716362Z",
     "shell.execute_reply": "2024-01-05T01:53:49.715244Z"
    },
    "papermill": {
     "duration": 0.022921,
     "end_time": "2024-01-05T01:53:49.718578",
     "exception": false,
     "start_time": "2024-01-05T01:53:49.695657",
     "status": "completed"
    },
    "tags": []
   },
   "outputs": [
    {
     "data": {
      "text/plain": [
       "0.638646735928801"
      ]
     },
     "execution_count": 27,
     "metadata": {},
     "output_type": "execute_result"
    }
   ],
   "source": [
    "from sklearn.metrics import r2_score\n",
    "r2_score(y_test, y_pred)"
   ]
  },
  {
   "cell_type": "code",
   "execution_count": 28,
   "id": "98ddffcf",
   "metadata": {
    "execution": {
     "iopub.execute_input": "2024-01-05T01:53:49.742600Z",
     "iopub.status.busy": "2024-01-05T01:53:49.742176Z",
     "iopub.status.idle": "2024-01-05T01:53:50.040837Z",
     "shell.execute_reply": "2024-01-05T01:53:50.039681Z"
    },
    "papermill": {
     "duration": 0.313582,
     "end_time": "2024-01-05T01:53:50.043246",
     "exception": false,
     "start_time": "2024-01-05T01:53:49.729664",
     "status": "completed"
    },
    "tags": []
   },
   "outputs": [
    {
     "data": {
      "text/plain": [
       "Text(0, 0.5, 'y_pred')"
      ]
     },
     "execution_count": 28,
     "metadata": {},
     "output_type": "execute_result"
    },
    {
     "data": {
      "image/png": "[encoded data removed]",
      "text/plain": [
       "<Figure size 640x480 with 1 Axes>"
      ]
     },
     "metadata": {},
     "output_type": "display_data"
    }
   ],
   "source": [
    "# Plotting y_test and y_pred to understand the spread.\n",
    "fig = plt.figure()\n",
    "plt.scatter(y_test,y_pred)\n",
    "fig.suptitle('y_test vs y_pred', fontsize=20)              # Plot heading \n",
    "plt.xlabel('y_test', fontsize=18)                          # X-label\n",
    "plt.ylabel('y_pred', fontsize=16)                          # Y-label"
   ]
  }
 ],
 "metadata": {
  "kaggle": {
   "accelerator": "none",
   "dataSources": [
    {
     "datasetId": 887178,
     "sourceId": 1506464,
     "sourceType": "datasetVersion"
    }
   ],
   "dockerImageVersionId": 30626,
   "isGpuEnabled": false,
   "isInternetEnabled": false,
   "language": "python",
   "sourceType": "notebook"
  },
  "kernelspec": {
   "display_name": "Python 3",
   "language": "python",
   "name": "python3"
  },
  "language_info": {
   "codemirror_mode": {
    "name": "ipython",
    "version": 3
   },
   "file_extension": ".py",
   "mimetype": "text/x-python",
   "name": "python",
   "nbconvert_exporter": "python",
   "pygments_lexer": "ipython3",
   "version": "3.10.12"
  },
  "papermill": {
   "default_parameters": {},
   "duration": 10.864721,
   "end_time": "2024-01-05T01:53:50.775711",
   "environment_variables": {},
   "exception": null,
   "input_path": "__notebook__.ipynb",
   "output_path": "__notebook__.ipynb",
   "parameters": {},
   "start_time": "2024-01-05T01:53:39.910990",
   "version": "2.4.0"
  }
 },
 "nbformat": 4,
 "nbformat_minor": 5
}
